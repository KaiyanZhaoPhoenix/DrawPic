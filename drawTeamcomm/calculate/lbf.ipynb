{
 "cells": [
  {
   "cell_type": "code",
   "execution_count": 5,
   "metadata": {},
   "outputs": [
    {
     "name": "stdout",
     "output_type": "stream",
     "text": [
      "Foraging-medium-v0_magic_no_mFalse_vTrue_ming - episode_return: 30.56$\\pm$0.16\n",
      "Foraging-medium-v0_commnet_no_mFalse_vTrue_ming - episode_return: 30.34$\\pm$0.19\n",
      "Foraging-medium-v0_tarmac_no_mFalse_vTrue_ming - episode_return: 30.32$\\pm$0.32\n",
      "Foraging-medium-v0_ic3net_no_mFalse_vTrue_ming - episode_return: 31.20$\\pm$0.39\n",
      "Foraging-medium-v0_tiecomm_no_mFalse_vTrue_ming - episode_return: 30.68$\\pm$0.34\n",
      "Foraging-medium-v0_teamcomm_no_mFalse_vTrue_ming - episode_return: 30.24$\\pm$0.25\n"
     ]
    }
   ],
   "source": [
    "import pandas as pd\n",
    "\n",
    "# 1. 加载数据\n",
    "data = pd.read_csv('../lbfmedium.csv')\n",
    "\n",
    "# 2. 提取以 \"- episode_return\" 结尾的列\n",
    "filtered_columns = [col for col in data.columns if col.endswith('- episode_return')]\n",
    "filtered_data = data[filtered_columns]\n",
    "\n",
    "top_10_values = filtered_data.apply(lambda x: x.nlargest(10))\n",
    "\n",
    "# 4. 计算前10个最大值的平均值和标准偏差\n",
    "mean_top_10 = top_10_values.mean()\n",
    "std_top_10 = top_10_values.std()\n",
    "\n",
    "# Format and print the results\n",
    "for algorithm, mean, std in zip(mean_top_10.index, mean_top_10, std_top_10):\n",
    "    print(\"{}: {:.2f}$\\pm${:.2f}\".format(algorithm, mean, std))\n",
    "\n"
   ]
  },
  {
   "cell_type": "code",
   "execution_count": 1,
   "metadata": {},
   "outputs": [
    {
     "name": "stdout",
     "output_type": "stream",
     "text": [
      "Foraging-easy-v0_ic3net_no_mFalse_vTrue_ming - episode_return: 20.65$\\pm$0.24\n",
      "Foraging-easy-v0_tarmac_no_mFalse_vTrue_ming - episode_return: 20.58$\\pm$0.31\n",
      "Foraging-easy-v0_magic_no_mFalse_vTrue_ming - episode_return: 20.57$\\pm$0.23\n",
      "Foraging-easy-v0_commnet_no_mFalse_vTrue_ming - episode_return: 20.66$\\pm$0.24\n",
      "Foraging-easy-v0_tiecomm_no_mFalse_vTrue_ming - episode_return: 20.83$\\pm$0.26\n",
      "Foraging-easy-v0_teamcomm_no_mFalse_vTrue_ming - episode_return: 20.35$\\pm$0.36\n"
     ]
    }
   ],
   "source": [
    "import pandas as pd\n",
    "\n",
    "# 1. 加载数据\n",
    "data = pd.read_csv('../lbf.csv')\n",
    "\n",
    "# 2. 提取以 \"- episode_return\" 结尾的列\n",
    "filtered_columns = [col for col in data.columns if col.endswith('- episode_return')]\n",
    "filtered_data = data[filtered_columns]\n",
    "\n",
    "top_10_values = filtered_data.apply(lambda x: x.nlargest(10))\n",
    "\n",
    "# 4. 计算前10个最大值的平均值和标准偏差\n",
    "mean_top_10 = top_10_values.mean()\n",
    "std_top_10 = top_10_values.std()\n",
    "\n",
    "# Format and print the results\n",
    "for algorithm, mean, std in zip(mean_top_10.index, mean_top_10, std_top_10):\n",
    "    print(\"{}: {:.2f}$\\pm${:.2f}\".format(algorithm, mean, std))"
   ]
  }
 ],
 "metadata": {
  "kernelspec": {
   "display_name": "base",
   "language": "python",
   "name": "python3"
  },
  "language_info": {
   "codemirror_mode": {
    "name": "ipython",
    "version": 3
   },
   "file_extension": ".py",
   "mimetype": "text/x-python",
   "name": "python",
   "nbconvert_exporter": "python",
   "pygments_lexer": "ipython3",
   "version": "3.11.3"
  },
  "orig_nbformat": 4
 },
 "nbformat": 4,
 "nbformat_minor": 2
}
