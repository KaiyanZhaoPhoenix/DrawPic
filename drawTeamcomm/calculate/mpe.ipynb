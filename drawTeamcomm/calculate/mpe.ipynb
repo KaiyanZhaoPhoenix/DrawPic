{
 "cells": [
  {
   "cell_type": "code",
   "execution_count": 14,
   "metadata": {},
   "outputs": [
    {
     "name": "stdout",
     "output_type": "stream",
     "text": [
      "mpe-large-spread-v2_tiecomm_no_mTrue_vFalse_ming - episode_return: -300.13$\\pm$8.74\n",
      "mpe-large-spread-v2_ic3net_no_mTrue_vFalse_ming - episode_return: -425.20$\\pm$10.62\n",
      "mpe-large-spread-v2_commnet_no_mTrue_vFalse_ming - episode_return: -366.84$\\pm$16.95\n",
      "mpe-large-spread-v2_magic_no_mTrue_vFalse_ming - episode_return: -331.15$\\pm$17.33\n",
      "mpe-large-spread-v2_tarmac_no_mTrue_vFalse_ming - episode_return: -375.65$\\pm$11.04\n",
      "mpe-large-spread-v2_teamcomm_no_mTrue_vFalse_ming - episode_return: -249.52$\\pm$7.59\n"
     ]
    }
   ],
   "source": [
    "import pandas as pd\n",
    "\n",
    "# 1. 加载数据\n",
    "data = pd.read_csv('../mpe333.csv')\n",
    "\n",
    "# 2. 提取以 \"- episode_return\" 结尾的列\n",
    "filtered_columns = [col for col in data.columns if col.endswith('- episode_return')]\n",
    "filtered_data = data[filtered_columns]\n",
    "\n",
    "top_10_values = filtered_data.apply(lambda x: x.nlargest(10))\n",
    "\n",
    "# 4. 计算前10个最大值的平均值和标准偏差\n",
    "mean_top_10 = top_10_values.mean()\n",
    "std_top_10 = top_10_values.std()\n",
    "\n",
    "# Format and print the results\n",
    "for algorithm, mean, std in zip(mean_top_10.index, mean_top_10, std_top_10):\n",
    "    print(\"{}: {:.2f}$\\pm${:.2f}\".format(algorithm, mean, std))\n"
   ]
  },
  {
   "cell_type": "code",
   "execution_count": 13,
   "metadata": {},
   "outputs": [
    {
     "name": "stdout",
     "output_type": "stream",
     "text": [
      "mpe-large-spread-v3_tarmac_no_mFalse_vTrue_ming - episode_return: -474.92$\\pm$8.62\n",
      "mpe-large-spread-v3_commnet_no_mFalse_vTrue_ming - episode_return: -458.99$\\pm$18.43\n",
      "mpe-large-spread-v3_tiecomm_no_mFalse_vTrue_ming - episode_return: -359.86$\\pm$16.88\n",
      "mpe-large-spread-v3_ic3net_no_mFalse_vTrue_ming - episode_return: -573.66$\\pm$10.09\n",
      "mpe-large-spread-v3_teamcomm_no_mFalse_vTrue_ming - episode_return: -297.54$\\pm$15.24\n",
      "mpe-large-spread-v3_magic_no_mFalse_vTrue_ming - episode_return: -570.65$\\pm$15.18\n"
     ]
    }
   ],
   "source": [
    "import pandas as pd\n",
    "\n",
    "# 1. 加载数据\n",
    "data = pd.read_csv('../mpe345.csv')\n",
    "\n",
    "# 2. 提取以 \"- episode_return\" 结尾的列\n",
    "filtered_columns = [col for col in data.columns if col.endswith('- episode_return')]\n",
    "filtered_data = data[filtered_columns]\n",
    "\n",
    "top_10_values = filtered_data.apply(lambda x: x.nlargest(10))\n",
    "\n",
    "# 4. 计算前10个最大值的平均值和标准偏差\n",
    "mean_top_10 = top_10_values.mean()\n",
    "std_top_10 = top_10_values.std()\n",
    "\n",
    "# Format and print the results\n",
    "for algorithm, mean, std in zip(mean_top_10.index, mean_top_10, std_top_10):\n",
    "    print(\"{}: {:.2f}$\\pm${:.2f}\".format(algorithm, mean, std))\n"
   ]
  },
  {
   "cell_type": "code",
   "execution_count": 12,
   "metadata": {},
   "outputs": [
    {
     "name": "stdout",
     "output_type": "stream",
     "text": [
      "mpe-large-spread-v2_magic_no_mFalse_vFalse_555 - episode_return: -575.41$\\pm$21.67\n",
      "mpe-large-spread-v2_ic3net_no_mFalse_vFalse_555 - episode_return: -710.38$\\pm$21.88\n",
      "mpe-large-spread-v2_tarmac_no_mFalse_vFalse_555 - episode_return: -541.99$\\pm$10.17\n",
      "mpe-large-spread-v2_tiecomm_no_mFalse_vFalse_555 - episode_return: -428.36$\\pm$12.53\n",
      "mpe-large-spread-v2_commnet_no_mFalse_vFalse_555 - episode_return: -590.36$\\pm$30.46\n",
      "mpe-large-spread-v2_teamcomm_no_mFalse_vFalse_555 - episode_return: -364.25$\\pm$16.03\n"
     ]
    }
   ],
   "source": [
    "import pandas as pd\n",
    "\n",
    "# 1. 加载数据\n",
    "data = pd.read_csv('../mpe555.csv')\n",
    "\n",
    "# 2. 提取以 \"- episode_return\" 结尾的列\n",
    "filtered_columns = [col for col in data.columns if col.endswith('- episode_return')]\n",
    "filtered_data = data[filtered_columns]\n",
    "\n",
    "top_10_values = filtered_data.apply(lambda x: x.nlargest(10))\n",
    "\n",
    "# 4. 计算前10个最大值的平均值和标准偏差\n",
    "mean_top_10 = top_10_values.mean()\n",
    "std_top_10 = top_10_values.std()\n",
    "\n",
    "# Format and print the results\n",
    "for algorithm, mean, std in zip(mean_top_10.index, mean_top_10, std_top_10):\n",
    "    print(\"{}: {:.2f}$\\pm${:.2f}\".format(algorithm, mean, std))\n"
   ]
  }
 ],
 "metadata": {
  "kernelspec": {
   "display_name": "base",
   "language": "python",
   "name": "python3"
  },
  "language_info": {
   "codemirror_mode": {
    "name": "ipython",
    "version": 3
   },
   "file_extension": ".py",
   "mimetype": "text/x-python",
   "name": "python",
   "nbconvert_exporter": "python",
   "pygments_lexer": "ipython3",
   "version": "3.11.3"
  },
  "orig_nbformat": 4
 },
 "nbformat": 4,
 "nbformat_minor": 2
}
