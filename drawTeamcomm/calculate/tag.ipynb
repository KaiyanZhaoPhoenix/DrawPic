{
 "cells": [
  {
   "cell_type": "code",
   "execution_count": 11,
   "metadata": {},
   "outputs": [
    {
     "name": "stdout",
     "output_type": "stream",
     "text": [
      "mpe-simple-tag-v1_magic_no_mFalse_vTrue_ming - episode_return: 247.13$\\pm$15.59\n",
      "mpe-simple-tag-v1_ic3net_no_mFalse_vTrue_ming - episode_return: 175.65$\\pm$11.00\n",
      "mpe-simple-tag-v1_teamcomm_no_mFalse_vTrue_ming - episode_return: 425.68$\\pm$24.97\n",
      "mpe-simple-tag-v1_commnet_no_mFalse_vTrue_ming - episode_return: 305.48$\\pm$23.69\n",
      "mpe-simple-tag-v1_tiecomm_no_mFalse_vTrue_ming - episode_return: 369.21$\\pm$11.93\n",
      "mpe-simple-tag-v1_tarmac_no_mFalse_vTrue_ming - episode_return: 349.65$\\pm$10.47\n"
     ]
    }
   ],
   "source": [
    "import pandas as pd\n",
    "\n",
    "# 1. 加载数据\n",
    "data = pd.read_csv('../tag242.csv')\n",
    "\n",
    "# 2. 提取以 \"- episode_return\" 结尾的列\n",
    "filtered_columns = [col for col in data.columns if col.endswith('- episode_return')]\n",
    "filtered_data = data[filtered_columns]\n",
    "\n",
    "top_10_values = filtered_data.apply(lambda x: x.nlargest(10))\n",
    "\n",
    "# 4. 计算前10个最大值的平均值和标准偏差\n",
    "mean_top_10 = top_10_values.mean()\n",
    "std_top_10 = top_10_values.std()\n",
    "\n",
    "# Format and print the results\n",
    "for algorithm, mean, std in zip(mean_top_10.index, mean_top_10, std_top_10):\n",
    "    print(\"{}: {:.2f}$\\pm${:.2f}\".format(algorithm, mean, std))\n"
   ]
  },
  {
   "cell_type": "code",
   "execution_count": null,
   "metadata": {},
   "outputs": [],
   "source": []
  },
  {
   "cell_type": "code",
   "execution_count": null,
   "metadata": {},
   "outputs": [],
   "source": []
  },
  {
   "cell_type": "code",
   "execution_count": 9,
   "metadata": {},
   "outputs": [
    {
     "name": "stdout",
     "output_type": "stream",
     "text": [
      "mpe-simple-tag-v1_tarmac_no_mFalse_vTrue_ming - episode_return: 559.11$\\pm$27.45\n",
      "mpe-simple-tag-v1_tiecomm_no_mFalse_vTrue_ming - episode_return: 730.71$\\pm$35.66\n",
      "mpe-simple-tag-v1_commnet_no_mFalse_vTrue_ming - episode_return: 529.20$\\pm$15.73\n",
      "mpe-simple-tag-v1_ic3net_no_mFalse_vTrue_ming - episode_return: 241.44$\\pm$10.88\n",
      "mpe-simple-tag-v1_magic_no_mFalse_vTrue_ming - episode_return: 603.45$\\pm$15.92\n",
      "mpe-simple-tag-v1_teamcomm_no_mFalse_vTrue_ming - episode_return: 786.97$\\pm$36.89\n"
     ]
    }
   ],
   "source": [
    "import pandas as pd\n",
    "\n",
    "# 1. 加载数据\n",
    "data = pd.read_csv('../tag352.csv')\n",
    "\n",
    "# 2. 提取以 \"- episode_return\" 结尾的列\n",
    "filtered_columns = [col for col in data.columns if col.endswith('- episode_return')]\n",
    "filtered_data = data[filtered_columns]\n",
    "\n",
    "top_10_values = filtered_data.apply(lambda x: x.nlargest(10))\n",
    "\n",
    "# 4. 计算前10个最大值的平均值和标准偏差\n",
    "mean_top_10 = top_10_values.mean()\n",
    "std_top_10 = top_10_values.std()\n",
    "\n",
    "# Format and print the results\n",
    "for algorithm, mean, std in zip(mean_top_10.index, mean_top_10, std_top_10):\n",
    "    print(\"{}: {:.2f}$\\pm${:.2f}\".format(algorithm, mean, std))\n"
   ]
  }
 ],
 "metadata": {
  "kernelspec": {
   "display_name": "base",
   "language": "python",
   "name": "python3"
  },
  "language_info": {
   "codemirror_mode": {
    "name": "ipython",
    "version": 3
   },
   "file_extension": ".py",
   "mimetype": "text/x-python",
   "name": "python",
   "nbconvert_exporter": "python",
   "pygments_lexer": "ipython3",
   "version": "3.11.3"
  },
  "orig_nbformat": 4
 },
 "nbformat": 4,
 "nbformat_minor": 2
}
